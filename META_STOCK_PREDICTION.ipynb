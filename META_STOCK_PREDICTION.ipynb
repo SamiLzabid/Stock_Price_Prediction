{
 "cells": [
  {
   "cell_type": "code",
   "execution_count": 158,
   "id": "81c44178-fa2c-4a16-8f4e-dea4f2488b9b",
   "metadata": {},
   "outputs": [],
   "source": [
    "import pandas as pd\n",
    "import numpy as np\n",
    "import matplotlib.pyplot as plt\n",
    "import numpy as np\n",
    "import tensorflow as tf"
   ]
  },
  {
   "cell_type": "code",
   "execution_count": 159,
   "id": "0bdb0bb7-7523-46fb-9212-ca2c459b94f8",
   "metadata": {},
   "outputs": [],
   "source": [
    "from tensorflow.keras.models import Sequential\n",
    "from tensorflow.keras.layers import Dense, Dropout, LSTM"
   ]
  },
  {
   "cell_type": "code",
   "execution_count": 160,
   "id": "0bdf057c-da04-497d-b69d-68f229e923b0",
   "metadata": {},
   "outputs": [
    {
     "data": {
      "text/html": [
       "<div>\n",
       "<style scoped>\n",
       "    .dataframe tbody tr th:only-of-type {\n",
       "        vertical-align: middle;\n",
       "    }\n",
       "\n",
       "    .dataframe tbody tr th {\n",
       "        vertical-align: top;\n",
       "    }\n",
       "\n",
       "    .dataframe thead th {\n",
       "        text-align: right;\n",
       "    }\n",
       "</style>\n",
       "<table border=\"1\" class=\"dataframe\">\n",
       "  <thead>\n",
       "    <tr style=\"text-align: right;\">\n",
       "      <th></th>\n",
       "      <th>Date</th>\n",
       "      <th>Price</th>\n",
       "      <th>Open</th>\n",
       "      <th>High</th>\n",
       "      <th>Low</th>\n",
       "      <th>Vol.</th>\n",
       "      <th>Change %</th>\n",
       "    </tr>\n",
       "  </thead>\n",
       "  <tbody>\n",
       "    <tr>\n",
       "      <th>0</th>\n",
       "      <td>2012-05-18</td>\n",
       "      <td>38.23</td>\n",
       "      <td>42.05</td>\n",
       "      <td>45.00</td>\n",
       "      <td>38.00</td>\n",
       "      <td>580.59M</td>\n",
       "      <td>-0.5762</td>\n",
       "    </tr>\n",
       "    <tr>\n",
       "      <th>1</th>\n",
       "      <td>2012-05-21</td>\n",
       "      <td>34.03</td>\n",
       "      <td>36.53</td>\n",
       "      <td>36.66</td>\n",
       "      <td>33.00</td>\n",
       "      <td>168.31M</td>\n",
       "      <td>-0.1099</td>\n",
       "    </tr>\n",
       "    <tr>\n",
       "      <th>2</th>\n",
       "      <td>2012-05-22</td>\n",
       "      <td>31.00</td>\n",
       "      <td>32.61</td>\n",
       "      <td>33.59</td>\n",
       "      <td>30.94</td>\n",
       "      <td>102.05M</td>\n",
       "      <td>-0.0890</td>\n",
       "    </tr>\n",
       "    <tr>\n",
       "      <th>3</th>\n",
       "      <td>2012-05-23</td>\n",
       "      <td>32.00</td>\n",
       "      <td>31.37</td>\n",
       "      <td>32.50</td>\n",
       "      <td>31.36</td>\n",
       "      <td>73.72M</td>\n",
       "      <td>0.0323</td>\n",
       "    </tr>\n",
       "    <tr>\n",
       "      <th>4</th>\n",
       "      <td>2012-05-24</td>\n",
       "      <td>33.03</td>\n",
       "      <td>32.95</td>\n",
       "      <td>33.21</td>\n",
       "      <td>31.77</td>\n",
       "      <td>50.28M</td>\n",
       "      <td>0.0322</td>\n",
       "    </tr>\n",
       "  </tbody>\n",
       "</table>\n",
       "</div>"
      ],
      "text/plain": [
       "        Date  Price   Open   High    Low     Vol.  Change %\n",
       "0 2012-05-18  38.23  42.05  45.00  38.00  580.59M   -0.5762\n",
       "1 2012-05-21  34.03  36.53  36.66  33.00  168.31M   -0.1099\n",
       "2 2012-05-22  31.00  32.61  33.59  30.94  102.05M   -0.0890\n",
       "3 2012-05-23  32.00  31.37  32.50  31.36   73.72M    0.0323\n",
       "4 2012-05-24  33.03  32.95  33.21  31.77   50.28M    0.0322"
      ]
     },
     "execution_count": 160,
     "metadata": {},
     "output_type": "execute_result"
    }
   ],
   "source": [
    "df = pd.read_excel('D:/Meta Platforms Stock Price.xlsx')\n",
    "df.head()"
   ]
  },
  {
   "cell_type": "code",
   "execution_count": 87,
   "id": "8a3de62c-d93c-4d5e-88cf-2335a3cb6efb",
   "metadata": {},
   "outputs": [
    {
     "data": {
      "text/html": [
       "<div>\n",
       "<style scoped>\n",
       "    .dataframe tbody tr th:only-of-type {\n",
       "        vertical-align: middle;\n",
       "    }\n",
       "\n",
       "    .dataframe tbody tr th {\n",
       "        vertical-align: top;\n",
       "    }\n",
       "\n",
       "    .dataframe thead th {\n",
       "        text-align: right;\n",
       "    }\n",
       "</style>\n",
       "<table border=\"1\" class=\"dataframe\">\n",
       "  <thead>\n",
       "    <tr style=\"text-align: right;\">\n",
       "      <th></th>\n",
       "      <th>Date</th>\n",
       "      <th>Price</th>\n",
       "      <th>Open</th>\n",
       "      <th>High</th>\n",
       "      <th>Low</th>\n",
       "      <th>Vol.</th>\n",
       "      <th>Change %</th>\n",
       "    </tr>\n",
       "  </thead>\n",
       "  <tbody>\n",
       "    <tr>\n",
       "      <th>3160</th>\n",
       "      <td>2024-12-09</td>\n",
       "      <td>613.57</td>\n",
       "      <td>623.92</td>\n",
       "      <td>626.40</td>\n",
       "      <td>606.17</td>\n",
       "      <td>11.43M</td>\n",
       "      <td>-0.0164</td>\n",
       "    </tr>\n",
       "    <tr>\n",
       "      <th>3161</th>\n",
       "      <td>2024-12-10</td>\n",
       "      <td>619.32</td>\n",
       "      <td>617.56</td>\n",
       "      <td>625.59</td>\n",
       "      <td>612.74</td>\n",
       "      <td>10.94M</td>\n",
       "      <td>0.0094</td>\n",
       "    </tr>\n",
       "    <tr>\n",
       "      <th>3162</th>\n",
       "      <td>2024-12-11</td>\n",
       "      <td>632.68</td>\n",
       "      <td>623.37</td>\n",
       "      <td>638.40</td>\n",
       "      <td>621.53</td>\n",
       "      <td>10.84M</td>\n",
       "      <td>0.0216</td>\n",
       "    </tr>\n",
       "    <tr>\n",
       "      <th>3163</th>\n",
       "      <td>2024-12-12</td>\n",
       "      <td>630.79</td>\n",
       "      <td>631.50</td>\n",
       "      <td>636.66</td>\n",
       "      <td>627.21</td>\n",
       "      <td>7.47M</td>\n",
       "      <td>-0.0030</td>\n",
       "    </tr>\n",
       "    <tr>\n",
       "      <th>3164</th>\n",
       "      <td>2024-12-13</td>\n",
       "      <td>620.35</td>\n",
       "      <td>627.22</td>\n",
       "      <td>631.08</td>\n",
       "      <td>616.89</td>\n",
       "      <td>8.45M</td>\n",
       "      <td>-0.0166</td>\n",
       "    </tr>\n",
       "  </tbody>\n",
       "</table>\n",
       "</div>"
      ],
      "text/plain": [
       "           Date   Price    Open    High     Low    Vol.  Change %\n",
       "3160 2024-12-09  613.57  623.92  626.40  606.17  11.43M   -0.0164\n",
       "3161 2024-12-10  619.32  617.56  625.59  612.74  10.94M    0.0094\n",
       "3162 2024-12-11  632.68  623.37  638.40  621.53  10.84M    0.0216\n",
       "3163 2024-12-12  630.79  631.50  636.66  627.21   7.47M   -0.0030\n",
       "3164 2024-12-13  620.35  627.22  631.08  616.89   8.45M   -0.0166"
      ]
     },
     "execution_count": 87,
     "metadata": {},
     "output_type": "execute_result"
    }
   ],
   "source": [
    "df.tail()"
   ]
  },
  {
   "cell_type": "code",
   "execution_count": 161,
   "id": "d7aae3ea-6b4f-4159-9935-5f684c56fd38",
   "metadata": {},
   "outputs": [
    {
     "data": {
      "image/png": "[encoded data removed]",
      "text/plain": [
       "<Figure size 1600x800 with 1 Axes>"
      ]
     },
     "metadata": {},
     "output_type": "display_data"
    }
   ],
   "source": [
    "plt.figure(figsize=(16,8))\n",
    "plt.title('Close Price History')\n",
    "plt.plot(df['Price'])\n",
    "plt.xlabel('Days', fontsize=18)\n",
    "plt.ylabel('Close Price USD ($)', fontsize=18)\n",
    "plt.show()\n",
    "           "
   ]
  },
  {
   "cell_type": "code",
   "execution_count": 89,
   "id": "49e79463-8347-4c73-8da6-1b95e6812e4b",
   "metadata": {},
   "outputs": [
    {
     "data": {
      "text/plain": [
       "(3165, 7)"
      ]
     },
     "execution_count": 89,
     "metadata": {},
     "output_type": "execute_result"
    }
   ],
   "source": [
    "df.shape"
   ]
  },
  {
   "cell_type": "code",
   "execution_count": 162,
   "id": "aeead791-a75e-47d5-abb0-6f06998f134e",
   "metadata": {},
   "outputs": [
    {
     "name": "stdout",
     "output_type": "stream",
     "text": [
      "(2215, 7)\n",
      "(950, 7)\n"
     ]
    }
   ],
   "source": [
    "train = pd.DataFrame(df[0:int(len(df)*0.70)])\n",
    "test = pd.DataFrame(df[int(len(df)*0.70): int(len(df))])\n",
    "\n",
    "print(train.shape)\n",
    "print(test.shape)"
   ]
  },
  {
   "cell_type": "code",
   "execution_count": 93,
   "id": "3ecc3978-76c9-441f-a60b-96730c72bf2e",
   "metadata": {},
   "outputs": [
    {
     "data": {
      "text/html": [
       "<div>\n",
       "<style scoped>\n",
       "    .dataframe tbody tr th:only-of-type {\n",
       "        vertical-align: middle;\n",
       "    }\n",
       "\n",
       "    .dataframe tbody tr th {\n",
       "        vertical-align: top;\n",
       "    }\n",
       "\n",
       "    .dataframe thead th {\n",
       "        text-align: right;\n",
       "    }\n",
       "</style>\n",
       "<table border=\"1\" class=\"dataframe\">\n",
       "  <thead>\n",
       "    <tr style=\"text-align: right;\">\n",
       "      <th></th>\n",
       "      <th>Date</th>\n",
       "      <th>Price</th>\n",
       "      <th>Open</th>\n",
       "      <th>High</th>\n",
       "      <th>Low</th>\n",
       "      <th>Vol.</th>\n",
       "      <th>Change %</th>\n",
       "    </tr>\n",
       "  </thead>\n",
       "  <tbody>\n",
       "    <tr>\n",
       "      <th>0</th>\n",
       "      <td>2012-05-18</td>\n",
       "      <td>38.23</td>\n",
       "      <td>42.05</td>\n",
       "      <td>45.00</td>\n",
       "      <td>38.00</td>\n",
       "      <td>580.59M</td>\n",
       "      <td>-0.5762</td>\n",
       "    </tr>\n",
       "    <tr>\n",
       "      <th>1</th>\n",
       "      <td>2012-05-21</td>\n",
       "      <td>34.03</td>\n",
       "      <td>36.53</td>\n",
       "      <td>36.66</td>\n",
       "      <td>33.00</td>\n",
       "      <td>168.31M</td>\n",
       "      <td>-0.1099</td>\n",
       "    </tr>\n",
       "    <tr>\n",
       "      <th>2</th>\n",
       "      <td>2012-05-22</td>\n",
       "      <td>31.00</td>\n",
       "      <td>32.61</td>\n",
       "      <td>33.59</td>\n",
       "      <td>30.94</td>\n",
       "      <td>102.05M</td>\n",
       "      <td>-0.0890</td>\n",
       "    </tr>\n",
       "    <tr>\n",
       "      <th>3</th>\n",
       "      <td>2012-05-23</td>\n",
       "      <td>32.00</td>\n",
       "      <td>31.37</td>\n",
       "      <td>32.50</td>\n",
       "      <td>31.36</td>\n",
       "      <td>73.72M</td>\n",
       "      <td>0.0323</td>\n",
       "    </tr>\n",
       "    <tr>\n",
       "      <th>4</th>\n",
       "      <td>2012-05-24</td>\n",
       "      <td>33.03</td>\n",
       "      <td>32.95</td>\n",
       "      <td>33.21</td>\n",
       "      <td>31.77</td>\n",
       "      <td>50.28M</td>\n",
       "      <td>0.0322</td>\n",
       "    </tr>\n",
       "  </tbody>\n",
       "</table>\n",
       "</div>"
      ],
      "text/plain": [
       "        Date  Price   Open   High    Low     Vol.  Change %\n",
       "0 2012-05-18  38.23  42.05  45.00  38.00  580.59M   -0.5762\n",
       "1 2012-05-21  34.03  36.53  36.66  33.00  168.31M   -0.1099\n",
       "2 2012-05-22  31.00  32.61  33.59  30.94  102.05M   -0.0890\n",
       "3 2012-05-23  32.00  31.37  32.50  31.36   73.72M    0.0323\n",
       "4 2012-05-24  33.03  32.95  33.21  31.77   50.28M    0.0322"
      ]
     },
     "execution_count": 93,
     "metadata": {},
     "output_type": "execute_result"
    }
   ],
   "source": [
    "train.head()"
   ]
  },
  {
   "cell_type": "code",
   "execution_count": 94,
   "id": "2fe6f0b9-a521-4139-a906-b5d4fb3842bb",
   "metadata": {},
   "outputs": [
    {
     "data": {
      "text/html": [
       "<div>\n",
       "<style scoped>\n",
       "    .dataframe tbody tr th:only-of-type {\n",
       "        vertical-align: middle;\n",
       "    }\n",
       "\n",
       "    .dataframe tbody tr th {\n",
       "        vertical-align: top;\n",
       "    }\n",
       "\n",
       "    .dataframe thead th {\n",
       "        text-align: right;\n",
       "    }\n",
       "</style>\n",
       "<table border=\"1\" class=\"dataframe\">\n",
       "  <thead>\n",
       "    <tr style=\"text-align: right;\">\n",
       "      <th></th>\n",
       "      <th>Date</th>\n",
       "      <th>Price</th>\n",
       "      <th>Open</th>\n",
       "      <th>High</th>\n",
       "      <th>Low</th>\n",
       "      <th>Vol.</th>\n",
       "      <th>Change %</th>\n",
       "    </tr>\n",
       "  </thead>\n",
       "  <tbody>\n",
       "    <tr>\n",
       "      <th>2215</th>\n",
       "      <td>2021-03-09</td>\n",
       "      <td>265.74</td>\n",
       "      <td>261.18</td>\n",
       "      <td>268.53</td>\n",
       "      <td>259.81</td>\n",
       "      <td>22.04M</td>\n",
       "      <td>0.0409</td>\n",
       "    </tr>\n",
       "    <tr>\n",
       "      <th>2216</th>\n",
       "      <td>2021-03-10</td>\n",
       "      <td>264.90</td>\n",
       "      <td>268.64</td>\n",
       "      <td>268.97</td>\n",
       "      <td>262.87</td>\n",
       "      <td>14.21M</td>\n",
       "      <td>-0.0032</td>\n",
       "    </tr>\n",
       "    <tr>\n",
       "      <th>2217</th>\n",
       "      <td>2021-03-11</td>\n",
       "      <td>273.88</td>\n",
       "      <td>268.11</td>\n",
       "      <td>277.90</td>\n",
       "      <td>267.82</td>\n",
       "      <td>21.83M</td>\n",
       "      <td>0.0339</td>\n",
       "    </tr>\n",
       "    <tr>\n",
       "      <th>2218</th>\n",
       "      <td>2021-03-12</td>\n",
       "      <td>268.40</td>\n",
       "      <td>269.14</td>\n",
       "      <td>269.74</td>\n",
       "      <td>264.02</td>\n",
       "      <td>20.60M</td>\n",
       "      <td>-0.0200</td>\n",
       "    </tr>\n",
       "    <tr>\n",
       "      <th>2219</th>\n",
       "      <td>2021-03-15</td>\n",
       "      <td>273.75</td>\n",
       "      <td>269.08</td>\n",
       "      <td>275.96</td>\n",
       "      <td>268.50</td>\n",
       "      <td>16.86M</td>\n",
       "      <td>0.0199</td>\n",
       "    </tr>\n",
       "  </tbody>\n",
       "</table>\n",
       "</div>"
      ],
      "text/plain": [
       "           Date   Price    Open    High     Low    Vol.  Change %\n",
       "2215 2021-03-09  265.74  261.18  268.53  259.81  22.04M    0.0409\n",
       "2216 2021-03-10  264.90  268.64  268.97  262.87  14.21M   -0.0032\n",
       "2217 2021-03-11  273.88  268.11  277.90  267.82  21.83M    0.0339\n",
       "2218 2021-03-12  268.40  269.14  269.74  264.02  20.60M   -0.0200\n",
       "2219 2021-03-15  273.75  269.08  275.96  268.50  16.86M    0.0199"
      ]
     },
     "execution_count": 94,
     "metadata": {},
     "output_type": "execute_result"
    }
   ],
   "source": [
    "test.head()"
   ]
  },
  {
   "cell_type": "code",
   "execution_count": 163,
   "id": "7b08abc7-e710-4912-8960-f36f35e1d3e2",
   "metadata": {},
   "outputs": [],
   "source": [
    "from sklearn.preprocessing import MinMaxScaler\n",
    "scaler=MinMaxScaler(feature_range=(0,1))"
   ]
  },
  {
   "cell_type": "code",
   "execution_count": 164,
   "id": "d3fab774-9783-4c43-bc76-3206738ae944",
   "metadata": {},
   "outputs": [],
   "source": [
    "train_price = train.iloc[:, 1:2].values\n",
    "test_price = test.iloc[:, 1:2].values"
   ]
  },
  {
   "cell_type": "code",
   "execution_count": 165,
   "id": "a1bbf955-89a1-4ed1-9728-f35a3498ed49",
   "metadata": {},
   "outputs": [
    {
     "data": {
      "text/plain": [
       "(2215, 1)"
      ]
     },
     "execution_count": 165,
     "metadata": {},
     "output_type": "execute_result"
    }
   ],
   "source": [
    "train_price.shape"
   ]
  },
  {
   "cell_type": "code",
   "execution_count": 166,
   "id": "ccd9eada-ec7b-4fdb-ad6c-445b10009f8c",
   "metadata": {},
   "outputs": [
    {
     "data": {
      "text/plain": [
       "(950, 1)"
      ]
     },
     "execution_count": 166,
     "metadata": {},
     "output_type": "execute_result"
    }
   ],
   "source": [
    "test_price.shape"
   ]
  },
  {
   "cell_type": "code",
   "execution_count": 167,
   "id": "a3603bfb-fe1a-41d7-b861-56ebdd37dba8",
   "metadata": {},
   "outputs": [
    {
     "data": {
      "text/plain": [
       "array([[0.07163324],\n",
       "       [0.05695716],\n",
       "       [0.04636942],\n",
       "       ...,\n",
       "       [0.83831854],\n",
       "       [0.86152072],\n",
       "       [0.83017681]])"
      ]
     },
     "execution_count": 167,
     "metadata": {},
     "output_type": "execute_result"
    }
   ],
   "source": [
    "train_data = scaler.fit_transform(train_price)\n",
    "train_data "
   ]
  },
  {
   "cell_type": "code",
   "execution_count": 168,
   "id": "61404d52-8f10-48d1-9d59-3039d27677e6",
   "metadata": {},
   "outputs": [],
   "source": [
    "x_train = []\n",
    "y_train = [] \n",
    "\n",
    "for i in range(100, train_data.shape[0]):\n",
    "    x_train.append(train_data[i-100: i])\n",
    "    y_train.append(train_data[i, 0])\n",
    "\n",
    "x_train, y_train = np.array(x_train), np.array(y_train) "
   ]
  },
  {
   "cell_type": "code",
   "execution_count": 169,
   "id": "290a0a2b-93c9-4289-b7d8-b68ef3bb9433",
   "metadata": {},
   "outputs": [
    {
     "name": "stdout",
     "output_type": "stream",
     "text": [
      "(2115, 100, 1)\n",
      "(2115,)\n"
     ]
    }
   ],
   "source": [
    "print(x_train.shape) \n",
    "print(y_train.shape)"
   ]
  },
  {
   "cell_type": "code",
   "execution_count": 170,
   "id": "936da88c-49f0-48d1-baea-248c6be19576",
   "metadata": {},
   "outputs": [],
   "source": [
    "import warnings\n",
    "warnings.filterwarnings('ignore')\n",
    "model = Sequential()\n",
    "model.add(LSTM(units = 50, activation = 'tanh', return_sequences=True\n",
    "              ,input_shape = (x_train.shape[1], 1)))\n",
    "model.add(Dropout(0.2))\n",
    "\n",
    "model.add(LSTM(units = 60, activation = 'tanh', return_sequences=True))\n",
    "model.add(Dropout(0.3))\n",
    "\n",
    "model.add(LSTM(units = 80, activation = 'tanh', return_sequences=True))\n",
    "model.add(Dropout(0.4))\n",
    "\n",
    "model.add(LSTM(units = 120, activation = 'tanh'))\n",
    "model.add(Dropout(0.5))\n",
    "\n",
    "model.add(Dense(units = 1))"
   ]
  },
  {
   "cell_type": "code",
   "execution_count": 171,
   "id": "67efd902-2739-42c7-b827-db25a7349d4c",
   "metadata": {},
   "outputs": [
    {
     "name": "stdout",
     "output_type": "stream",
     "text": [
      "Model: \"sequential_6\"\n",
      "_________________________________________________________________\n",
      " Layer (type)                Output Shape              Param #   \n",
      "=================================================================\n",
      " lstm_20 (LSTM)              (None, 100, 50)           10400     \n",
      "                                                                 \n",
      " dropout_16 (Dropout)        (None, 100, 50)           0         \n",
      "                                                                 \n",
      " lstm_21 (LSTM)              (None, 100, 60)           26640     \n",
      "                                                                 \n",
      " dropout_17 (Dropout)        (None, 100, 60)           0         \n",
      "                                                                 \n",
      " lstm_22 (LSTM)              (None, 100, 80)           45120     \n",
      "                                                                 \n",
      " dropout_18 (Dropout)        (None, 100, 80)           0         \n",
      "                                                                 \n",
      " lstm_23 (LSTM)              (None, 120)               96480     \n",
      "                                                                 \n",
      " dropout_19 (Dropout)        (None, 120)               0         \n",
      "                                                                 \n",
      " dense_5 (Dense)             (None, 1)                 121       \n",
      "                                                                 \n",
      "=================================================================\n",
      "Total params: 178,761\n",
      "Trainable params: 178,761\n",
      "Non-trainable params: 0\n",
      "_________________________________________________________________\n"
     ]
    }
   ],
   "source": [
    "model.summary()"
   ]
  },
  {
   "cell_type": "code",
   "execution_count": 172,
   "id": "0eae7307-18b8-459e-92ea-6e2d6dd6cf0d",
   "metadata": {},
   "outputs": [
    {
     "name": "stdout",
     "output_type": "stream",
     "text": [
      "Epoch 1/100\n",
      "67/67 [==============================] - 4s 21ms/step - loss: 0.0164 - mean_absolute_error: 0.0842\n",
      "Epoch 2/100\n",
      "67/67 [==============================] - 1s 18ms/step - loss: 0.0049 - mean_absolute_error: 0.0494\n",
      "Epoch 3/100\n",
      "67/67 [==============================] - 1s 18ms/step - loss: 0.0042 - mean_absolute_error: 0.0447\n",
      "Epoch 4/100\n",
      "67/67 [==============================] - 1s 18ms/step - loss: 0.0039 - mean_absolute_error: 0.0444\n",
      "Epoch 5/100\n",
      "67/67 [==============================] - 1s 18ms/step - loss: 0.0042 - mean_absolute_error: 0.0455\n",
      "Epoch 6/100\n",
      "67/67 [==============================] - 1s 18ms/step - loss: 0.0040 - mean_absolute_error: 0.0435\n",
      "Epoch 7/100\n",
      "67/67 [==============================] - 1s 18ms/step - loss: 0.0037 - mean_absolute_error: 0.0434\n",
      "Epoch 8/100\n",
      "67/67 [==============================] - 1s 19ms/step - loss: 0.0031 - mean_absolute_error: 0.0388\n",
      "Epoch 9/100\n",
      "67/67 [==============================] - 1s 18ms/step - loss: 0.0028 - mean_absolute_error: 0.0371\n",
      "Epoch 10/100\n",
      "67/67 [==============================] - 1s 19ms/step - loss: 0.0034 - mean_absolute_error: 0.0419\n",
      "Epoch 11/100\n",
      "67/67 [==============================] - 1s 19ms/step - loss: 0.0031 - mean_absolute_error: 0.0389\n",
      "Epoch 12/100\n",
      "67/67 [==============================] - 1s 19ms/step - loss: 0.0027 - mean_absolute_error: 0.0359\n",
      "Epoch 13/100\n",
      "67/67 [==============================] - 1s 18ms/step - loss: 0.0026 - mean_absolute_error: 0.0360\n",
      "Epoch 14/100\n",
      "67/67 [==============================] - 1s 19ms/step - loss: 0.0028 - mean_absolute_error: 0.0382\n",
      "Epoch 15/100\n",
      "67/67 [==============================] - 1s 18ms/step - loss: 0.0025 - mean_absolute_error: 0.0355\n",
      "Epoch 16/100\n",
      "67/67 [==============================] - 1s 18ms/step - loss: 0.0023 - mean_absolute_error: 0.0335\n",
      "Epoch 17/100\n",
      "67/67 [==============================] - 1s 19ms/step - loss: 0.0022 - mean_absolute_error: 0.0327\n",
      "Epoch 18/100\n",
      "67/67 [==============================] - 1s 18ms/step - loss: 0.0024 - mean_absolute_error: 0.0349\n",
      "Epoch 19/100\n",
      "67/67 [==============================] - 1s 18ms/step - loss: 0.0022 - mean_absolute_error: 0.0325\n",
      "Epoch 20/100\n",
      "67/67 [==============================] - 1s 18ms/step - loss: 0.0022 - mean_absolute_error: 0.0334\n",
      "Epoch 21/100\n",
      "67/67 [==============================] - 1s 18ms/step - loss: 0.0021 - mean_absolute_error: 0.0323\n",
      "Epoch 22/100\n",
      "67/67 [==============================] - 1s 18ms/step - loss: 0.0022 - mean_absolute_error: 0.0336\n",
      "Epoch 23/100\n",
      "67/67 [==============================] - 1s 18ms/step - loss: 0.0023 - mean_absolute_error: 0.0331\n",
      "Epoch 24/100\n",
      "67/67 [==============================] - 1s 18ms/step - loss: 0.0019 - mean_absolute_error: 0.0305\n",
      "Epoch 25/100\n",
      "67/67 [==============================] - 1s 18ms/step - loss: 0.0020 - mean_absolute_error: 0.0314\n",
      "Epoch 26/100\n",
      "67/67 [==============================] - 1s 18ms/step - loss: 0.0019 - mean_absolute_error: 0.0311\n",
      "Epoch 27/100\n",
      "67/67 [==============================] - 1s 18ms/step - loss: 0.0020 - mean_absolute_error: 0.0309\n",
      "Epoch 28/100\n",
      "67/67 [==============================] - 1s 18ms/step - loss: 0.0019 - mean_absolute_error: 0.0308\n",
      "Epoch 29/100\n",
      "67/67 [==============================] - 1s 18ms/step - loss: 0.0018 - mean_absolute_error: 0.0300\n",
      "Epoch 30/100\n",
      "67/67 [==============================] - 1s 18ms/step - loss: 0.0018 - mean_absolute_error: 0.0304\n",
      "Epoch 31/100\n",
      "67/67 [==============================] - 1s 18ms/step - loss: 0.0018 - mean_absolute_error: 0.0295\n",
      "Epoch 32/100\n",
      "67/67 [==============================] - 1s 18ms/step - loss: 0.0019 - mean_absolute_error: 0.0302\n",
      "Epoch 33/100\n",
      "67/67 [==============================] - 1s 19ms/step - loss: 0.0017 - mean_absolute_error: 0.0285\n",
      "Epoch 34/100\n",
      "67/67 [==============================] - 1s 18ms/step - loss: 0.0018 - mean_absolute_error: 0.0307\n",
      "Epoch 35/100\n",
      "67/67 [==============================] - 1s 18ms/step - loss: 0.0016 - mean_absolute_error: 0.0289\n",
      "Epoch 36/100\n",
      "67/67 [==============================] - 1s 18ms/step - loss: 0.0018 - mean_absolute_error: 0.0302\n",
      "Epoch 37/100\n",
      "67/67 [==============================] - 1s 18ms/step - loss: 0.0019 - mean_absolute_error: 0.0316\n",
      "Epoch 38/100\n",
      "67/67 [==============================] - 1s 18ms/step - loss: 0.0017 - mean_absolute_error: 0.0287\n",
      "Epoch 39/100\n",
      "67/67 [==============================] - 1s 18ms/step - loss: 0.0016 - mean_absolute_error: 0.0285\n",
      "Epoch 40/100\n",
      "67/67 [==============================] - 1s 18ms/step - loss: 0.0015 - mean_absolute_error: 0.0283\n",
      "Epoch 41/100\n",
      "67/67 [==============================] - 1s 18ms/step - loss: 0.0017 - mean_absolute_error: 0.0285\n",
      "Epoch 42/100\n",
      "67/67 [==============================] - 1s 18ms/step - loss: 0.0017 - mean_absolute_error: 0.0289\n",
      "Epoch 43/100\n",
      "67/67 [==============================] - 1s 18ms/step - loss: 0.0013 - mean_absolute_error: 0.0264\n",
      "Epoch 44/100\n",
      "67/67 [==============================] - 1s 18ms/step - loss: 0.0015 - mean_absolute_error: 0.0275\n",
      "Epoch 45/100\n",
      "67/67 [==============================] - 1s 18ms/step - loss: 0.0014 - mean_absolute_error: 0.0274\n",
      "Epoch 46/100\n",
      "67/67 [==============================] - 1s 18ms/step - loss: 0.0014 - mean_absolute_error: 0.0263\n",
      "Epoch 47/100\n",
      "67/67 [==============================] - 1s 18ms/step - loss: 0.0016 - mean_absolute_error: 0.0288\n",
      "Epoch 48/100\n",
      "67/67 [==============================] - 1s 18ms/step - loss: 0.0014 - mean_absolute_error: 0.0270\n",
      "Epoch 49/100\n",
      "67/67 [==============================] - 1s 18ms/step - loss: 0.0015 - mean_absolute_error: 0.0279\n",
      "Epoch 50/100\n",
      "67/67 [==============================] - 1s 19ms/step - loss: 0.0014 - mean_absolute_error: 0.0272\n",
      "Epoch 51/100\n",
      "67/67 [==============================] - 1s 18ms/step - loss: 0.0016 - mean_absolute_error: 0.0282\n",
      "Epoch 52/100\n",
      "67/67 [==============================] - 1s 19ms/step - loss: 0.0013 - mean_absolute_error: 0.0260\n",
      "Epoch 53/100\n",
      "67/67 [==============================] - 1s 18ms/step - loss: 0.0014 - mean_absolute_error: 0.0274\n",
      "Epoch 54/100\n",
      "67/67 [==============================] - 1s 18ms/step - loss: 0.0015 - mean_absolute_error: 0.0271\n",
      "Epoch 55/100\n",
      "67/67 [==============================] - 1s 19ms/step - loss: 0.0014 - mean_absolute_error: 0.0268\n",
      "Epoch 56/100\n",
      "67/67 [==============================] - 1s 18ms/step - loss: 0.0013 - mean_absolute_error: 0.0262\n",
      "Epoch 57/100\n",
      "67/67 [==============================] - 1s 19ms/step - loss: 0.0016 - mean_absolute_error: 0.0289\n",
      "Epoch 58/100\n",
      "67/67 [==============================] - 1s 18ms/step - loss: 0.0013 - mean_absolute_error: 0.0265\n",
      "Epoch 59/100\n",
      "67/67 [==============================] - 1s 18ms/step - loss: 0.0013 - mean_absolute_error: 0.0259\n",
      "Epoch 60/100\n",
      "67/67 [==============================] - 1s 18ms/step - loss: 0.0013 - mean_absolute_error: 0.0257\n",
      "Epoch 61/100\n",
      "67/67 [==============================] - 1s 18ms/step - loss: 0.0012 - mean_absolute_error: 0.0248\n",
      "Epoch 62/100\n",
      "67/67 [==============================] - 1s 18ms/step - loss: 0.0013 - mean_absolute_error: 0.0266\n",
      "Epoch 63/100\n",
      "67/67 [==============================] - 1s 18ms/step - loss: 0.0014 - mean_absolute_error: 0.0269\n",
      "Epoch 64/100\n",
      "67/67 [==============================] - 1s 18ms/step - loss: 0.0013 - mean_absolute_error: 0.0254\n",
      "Epoch 65/100\n",
      "67/67 [==============================] - 1s 18ms/step - loss: 0.0014 - mean_absolute_error: 0.0266\n",
      "Epoch 66/100\n",
      "67/67 [==============================] - 1s 18ms/step - loss: 0.0013 - mean_absolute_error: 0.0263\n",
      "Epoch 67/100\n",
      "67/67 [==============================] - 1s 18ms/step - loss: 0.0012 - mean_absolute_error: 0.0247\n",
      "Epoch 68/100\n",
      "67/67 [==============================] - 1s 18ms/step - loss: 0.0012 - mean_absolute_error: 0.0249\n",
      "Epoch 69/100\n",
      "67/67 [==============================] - 1s 18ms/step - loss: 0.0012 - mean_absolute_error: 0.0246\n",
      "Epoch 70/100\n",
      "67/67 [==============================] - 1s 18ms/step - loss: 0.0015 - mean_absolute_error: 0.0277\n",
      "Epoch 71/100\n",
      "67/67 [==============================] - 1s 18ms/step - loss: 0.0015 - mean_absolute_error: 0.0276\n",
      "Epoch 72/100\n",
      "67/67 [==============================] - 1s 18ms/step - loss: 0.0012 - mean_absolute_error: 0.0254\n",
      "Epoch 73/100\n",
      "67/67 [==============================] - 1s 18ms/step - loss: 0.0014 - mean_absolute_error: 0.0261\n",
      "Epoch 74/100\n",
      "67/67 [==============================] - 1s 18ms/step - loss: 0.0013 - mean_absolute_error: 0.0255\n",
      "Epoch 75/100\n",
      "67/67 [==============================] - 1s 18ms/step - loss: 0.0011 - mean_absolute_error: 0.0240\n",
      "Epoch 76/100\n",
      "67/67 [==============================] - 1s 18ms/step - loss: 0.0015 - mean_absolute_error: 0.0287\n",
      "Epoch 77/100\n",
      "67/67 [==============================] - 1s 19ms/step - loss: 0.0013 - mean_absolute_error: 0.0262\n",
      "Epoch 78/100\n",
      "67/67 [==============================] - 1s 18ms/step - loss: 0.0012 - mean_absolute_error: 0.0247\n",
      "Epoch 79/100\n",
      "67/67 [==============================] - 1s 18ms/step - loss: 0.0012 - mean_absolute_error: 0.0247\n",
      "Epoch 80/100\n",
      "67/67 [==============================] - 1s 19ms/step - loss: 0.0012 - mean_absolute_error: 0.0246\n",
      "Epoch 81/100\n",
      "67/67 [==============================] - 1s 19ms/step - loss: 0.0013 - mean_absolute_error: 0.0263\n",
      "Epoch 82/100\n",
      "67/67 [==============================] - 1s 18ms/step - loss: 0.0012 - mean_absolute_error: 0.0247\n",
      "Epoch 83/100\n",
      "67/67 [==============================] - 1s 18ms/step - loss: 0.0013 - mean_absolute_error: 0.0259\n",
      "Epoch 84/100\n",
      "67/67 [==============================] - 1s 19ms/step - loss: 0.0013 - mean_absolute_error: 0.0258\n",
      "Epoch 85/100\n",
      "67/67 [==============================] - 1s 18ms/step - loss: 0.0013 - mean_absolute_error: 0.0255\n",
      "Epoch 86/100\n",
      "67/67 [==============================] - 1s 19ms/step - loss: 0.0013 - mean_absolute_error: 0.0255\n",
      "Epoch 87/100\n",
      "67/67 [==============================] - 1s 19ms/step - loss: 0.0013 - mean_absolute_error: 0.0256\n",
      "Epoch 88/100\n",
      "67/67 [==============================] - 1s 18ms/step - loss: 0.0012 - mean_absolute_error: 0.0248\n",
      "Epoch 89/100\n",
      "67/67 [==============================] - 1s 18ms/step - loss: 0.0011 - mean_absolute_error: 0.0236\n",
      "Epoch 90/100\n",
      "67/67 [==============================] - 1s 18ms/step - loss: 0.0012 - mean_absolute_error: 0.0250\n",
      "Epoch 91/100\n",
      "67/67 [==============================] - 1s 18ms/step - loss: 0.0011 - mean_absolute_error: 0.0241\n",
      "Epoch 92/100\n",
      "67/67 [==============================] - 1s 18ms/step - loss: 0.0018 - mean_absolute_error: 0.0308\n",
      "Epoch 93/100\n",
      "67/67 [==============================] - 1s 19ms/step - loss: 0.0012 - mean_absolute_error: 0.0242\n",
      "Epoch 94/100\n",
      "67/67 [==============================] - 1s 18ms/step - loss: 0.0011 - mean_absolute_error: 0.0243\n",
      "Epoch 95/100\n",
      "67/67 [==============================] - 1s 18ms/step - loss: 0.0011 - mean_absolute_error: 0.0238\n",
      "Epoch 96/100\n",
      "67/67 [==============================] - 1s 18ms/step - loss: 0.0012 - mean_absolute_error: 0.0256\n",
      "Epoch 97/100\n",
      "67/67 [==============================] - 1s 18ms/step - loss: 0.0012 - mean_absolute_error: 0.0254\n",
      "Epoch 98/100\n",
      "67/67 [==============================] - 1s 18ms/step - loss: 0.0011 - mean_absolute_error: 0.0242\n",
      "Epoch 99/100\n",
      "67/67 [==============================] - 1s 18ms/step - loss: 0.0010 - mean_absolute_error: 0.0231\n",
      "Epoch 100/100\n",
      "67/67 [==============================] - 1s 18ms/step - loss: 0.0012 - mean_absolute_error: 0.0241\n"
     ]
    },
    {
     "data": {
      "text/plain": [
       "<keras.callbacks.History at 0x1a2ff71a5c0>"
      ]
     },
     "execution_count": 172,
     "metadata": {},
     "output_type": "execute_result"
    }
   ],
   "source": [
    "model.compile(optimizer = 'adam', loss = 'mean_squared_error', metrics=[tf.keras.metrics.MeanAbsoluteError()])\n",
    "model.fit(x_train, y_train,epochs = 100)"
   ]
  },
  {
   "cell_type": "code",
   "execution_count": 119,
   "id": "2277cedc-d623-4cf6-a311-0c9ef641e106",
   "metadata": {},
   "outputs": [],
   "source": [
    "model.save('keras_model.h5')"
   ]
  },
  {
   "cell_type": "code",
   "execution_count": 196,
   "id": "6ce468c6-1b5f-4f24-8836-aa0efece2c36",
   "metadata": {},
   "outputs": [
    {
     "data": {
      "text/plain": [
       "(950, 1)"
      ]
     },
     "execution_count": 196,
     "metadata": {},
     "output_type": "execute_result"
    }
   ],
   "source": [
    "test_price.shape"
   ]
  },
  {
   "cell_type": "code",
   "execution_count": 197,
   "id": "f90696ea-9574-4902-876e-2f3c432f1cfc",
   "metadata": {},
   "outputs": [
    {
     "data": {
      "text/html": [
       "<div>\n",
       "<style scoped>\n",
       "    .dataframe tbody tr th:only-of-type {\n",
       "        vertical-align: middle;\n",
       "    }\n",
       "\n",
       "    .dataframe tbody tr th {\n",
       "        vertical-align: top;\n",
       "    }\n",
       "\n",
       "    .dataframe thead th {\n",
       "        text-align: right;\n",
       "    }\n",
       "</style>\n",
       "<table border=\"1\" class=\"dataframe\">\n",
       "  <thead>\n",
       "    <tr style=\"text-align: right;\">\n",
       "      <th></th>\n",
       "      <th>0</th>\n",
       "    </tr>\n",
       "  </thead>\n",
       "  <tbody>\n",
       "    <tr>\n",
       "      <th>0</th>\n",
       "      <td>276.14</td>\n",
       "    </tr>\n",
       "    <tr>\n",
       "      <th>1</th>\n",
       "      <td>271.82</td>\n",
       "    </tr>\n",
       "    <tr>\n",
       "      <th>2</th>\n",
       "      <td>266.72</td>\n",
       "    </tr>\n",
       "    <tr>\n",
       "      <th>3</th>\n",
       "      <td>265.93</td>\n",
       "    </tr>\n",
       "    <tr>\n",
       "      <th>4</th>\n",
       "      <td>261.40</td>\n",
       "    </tr>\n",
       "  </tbody>\n",
       "</table>\n",
       "</div>"
      ],
      "text/plain": [
       "        0\n",
       "0  276.14\n",
       "1  271.82\n",
       "2  266.72\n",
       "3  265.93\n",
       "4  261.40"
      ]
     },
     "execution_count": 197,
     "metadata": {},
     "output_type": "execute_result"
    }
   ],
   "source": [
    "past_100_days = pd.DataFrame(train_price[-100:])\n",
    "test_df = pd.DataFrame(test_price)\n",
    "final_df = pd.concat([past_100_days, test_df], ignore_index=True)\n",
    "final_df.head()"
   ]
  },
  {
   "cell_type": "code",
   "execution_count": 198,
   "id": "1ba18e3f-ddc1-40a7-b132-a3a1f7afce2f",
   "metadata": {},
   "outputs": [
    {
     "data": {
      "text/plain": [
       "array([[0.34431837],\n",
       "       [0.33637383],\n",
       "       [0.32699487],\n",
       "       ...,\n",
       "       [1.        ],\n",
       "       [0.99652427],\n",
       "       [0.97732497]])"
      ]
     },
     "execution_count": 198,
     "metadata": {},
     "output_type": "execute_result"
    }
   ],
   "source": [
    "input_data = scaler.fit_transform(final_df)\n",
    "input_data"
   ]
  },
  {
   "cell_type": "code",
   "execution_count": 199,
   "id": "6b400c3b-4c80-42c7-baf7-54847cfa01ae",
   "metadata": {},
   "outputs": [
    {
     "data": {
      "text/plain": [
       "(1050, 1)"
      ]
     },
     "execution_count": 199,
     "metadata": {},
     "output_type": "execute_result"
    }
   ],
   "source": [
    "input_data.shape"
   ]
  },
  {
   "cell_type": "code",
   "execution_count": 200,
   "id": "6ea687ae-223a-4a54-a1c9-b97de00c0d2d",
   "metadata": {},
   "outputs": [],
   "source": [
    "x_test = []\n",
    "y_test = []\n",
    "for i in range(100, input_data.shape[0]):\n",
    "   x_test.append(input_data[i-100: i])\n",
    "   y_test.append(input_data[i, 0])"
   ]
  },
  {
   "cell_type": "code",
   "execution_count": 201,
   "id": "861a75cb-42f5-4389-a05b-ebed30d93fa5",
   "metadata": {},
   "outputs": [
    {
     "name": "stdout",
     "output_type": "stream",
     "text": [
      "(950, 100, 1)\n",
      "(950,)\n"
     ]
    }
   ],
   "source": [
    "x_test, y_test = np.array(x_test), np.array(y_test)\n",
    "print(x_test.shape)\n",
    "print(y_test.shape)"
   ]
  },
  {
   "cell_type": "code",
   "execution_count": 202,
   "id": "4aac0a09-75be-417c-85df-ee806901c2af",
   "metadata": {},
   "outputs": [
    {
     "name": "stdout",
     "output_type": "stream",
     "text": [
      "30/30 [==============================] - 1s 17ms/step\n"
     ]
    }
   ],
   "source": [
    "y_pred = model.predict(x_test)"
   ]
  },
  {
   "cell_type": "code",
   "execution_count": 203,
   "id": "27d8a8ee-2049-41bc-bcb5-8adf47235535",
   "metadata": {},
   "outputs": [
    {
     "data": {
      "text/plain": [
       "(950, 1)"
      ]
     },
     "execution_count": 203,
     "metadata": {},
     "output_type": "execute_result"
    }
   ],
   "source": [
    "y_pred.shape"
   ]
  },
  {
   "cell_type": "code",
   "execution_count": 204,
   "id": "51f87c0f-6aa6-4027-a909-18e9b6af2d6e",
   "metadata": {},
   "outputs": [
    {
     "data": {
      "text/plain": [
       "(950,)"
      ]
     },
     "execution_count": 204,
     "metadata": {},
     "output_type": "execute_result"
    }
   ],
   "source": [
    "y_test.shape"
   ]
  },
  {
   "cell_type": "code",
   "execution_count": 205,
   "id": "af1be7a7-03a7-4205-8f45-6d43619a18c1",
   "metadata": {},
   "outputs": [
    {
     "data": {
      "text/plain": [
       "array([0.00183901])"
      ]
     },
     "execution_count": 205,
     "metadata": {},
     "output_type": "execute_result"
    }
   ],
   "source": [
    "scaler.scale_"
   ]
  },
  {
   "cell_type": "code",
   "execution_count": 206,
   "id": "d4670edb-56bf-4cc6-a9f2-49115223383b",
   "metadata": {},
   "outputs": [],
   "source": [
    "scale_factor = 1/0.00183901\n",
    "y_pred = y_pred * scale_factor\n",
    "y_test = y_test * scale_factor"
   ]
  },
  {
   "cell_type": "code",
   "execution_count": 208,
   "id": "065a8927-94a6-4b1e-b626-70ff05365bad",
   "metadata": {},
   "outputs": [
    {
     "data": {
      "text/plain": [
       "array([176.83027096, 175.99026967, 184.97028343, 179.49027503,\n",
       "       184.84028323, 190.3702917 , 195.10029895, 189.71029069,\n",
       "       201.2003083 , 204.63031356, 201.7203091 , 193.23029609,\n",
       "       189.83029088, 194.11029744, 201.91030939, 199.09030507,\n",
       "       205.62031507, 209.7503214 , 220.00033711, 217.35033305,\n",
       "       224.18034351, 224.1103434 , 223.55034255, 222.63034114,\n",
       "       220.85033841, 213.91032777, 218.91033544, 217.27033292,\n",
       "       213.33032689, 213.74032751, 212.56032571, 207.61031812,\n",
       "       212.22032519, 214.13032811, 214.66032892, 218.19033433,\n",
       "       240.60036867, 236.17036188, 233.67035805, 229.45035159,\n",
       "       226.11034647, 231.11035413, 230.17035269, 217.0603326 ,\n",
       "       217.62033346, 213.64032736, 216.35033151, 227.03034788,\n",
       "       226.55034714, 221.05033872, 224.68034428, 229.70035197,\n",
       "       227.32034832, 235.72036119, 238.88036604, 238.75036584,\n",
       "       243.84037364, 239.82036748, 240.22036809, 240.24036812,\n",
       "       237.13036335, 241.44036996, 247.67037951, 244.77037506,\n",
       "       241.34036981, 243.55037319, 242.35037135, 247.8603798 ,\n",
       "       247.84037977, 242.17037108, 247.6003794 , 240.7503689 ,\n",
       "       243.38037293, 250.12038326, 251.68038565, 254.27038962,\n",
       "       252.46038685, 266.73040871, 262.98040296, 258.80039656,\n",
       "       265.4804068 , 265.79040727, 263.87040433, 261.58040082,\n",
       "       256.7403934 , 261.51040071, 264.25040491, 263.18040327,\n",
       "       258.72039644, 255.55039158, 252.25038652, 248.04038007,\n",
       "       252.75038729, 257.32039429, 262.28040189, 280.88043039,\n",
       "       283.55043448, 278.90042736, 284.37043574, 269.41041282,\n",
       "       267.39040972, 263.04040306, 262.33040197, 270.01041374,\n",
       "       274.06041994, 274.60042077, 272.70041786, 272.22041712,\n",
       "       271.05041533, 273.74041945, 274.27042026, 277.65042544,\n",
       "       269.54041302, 266.54040842, 266.21040791, 270.46041443,\n",
       "       274.44042053, 276.60042383, 279.48042825, 275.4704221 ,\n",
       "       283.72043474, 291.75044705, 290.47044509, 293.14044918,\n",
       "       286.37043881, 287.35044031, 293.27044938, 288.66044231,\n",
       "       289.09044297, 289.78044403, 287.60044069, 287.62044072,\n",
       "       285.01043672, 284.1504354 , 275.81042262, 266.7904088 ,\n",
       "       268.57041153, 254.30038966, 257.05039388, 264.0504046 ,\n",
       "       264.67040555, 251.74038574, 250.70038415, 250.48038381,\n",
       "       254.10038936, 237.32036365, 244.05037396, 244.730375  ,\n",
       "       240.31036823, 241.1403695 , 236.54036245, 234.86035988,\n",
       "       235.63036106, 239.62036717, 235.85036139, 246.43037761,\n",
       "       251.08038473, 251.87038594, 252.97038763, 235.70036116,\n",
       "       239.78036742, 226.90034768, 223.31034218, 228.01034938,\n",
       "       234.66035957, 241.07036939, 239.17036648, 242.71037191,\n",
       "       246.94037839, 252.22038648, 249.71038263, 246.46037765,\n",
       "       238.73036581, 238.83036596, 251.98038611, 258.65039633,\n",
       "       254.05038928, 251.86038593, 249.78038274, 256.39039287,\n",
       "       252.10038629, 248.34038053, 252.15038637, 244.2103742 ,\n",
       "       249.12038173, 235.55036093, 221.6903397 , 221.48033937,\n",
       "       217.93033393, 228.96035084, 233.90035841, 241.65037028,\n",
       "       240.91036915, 240.84036904, 245.5803763 , 244.83037515,\n",
       "       252.75038729, 245.99037693, 244.88037523, 236.54036245,\n",
       "       245.29037586, 241.54037011, 246.33037745, 257.27039422,\n",
       "       257.31039428, 254.03038925, 255.45039143, 247.44037915,\n",
       "       249.63038251, 247.62037943, 235.26036049, 243.55037319,\n",
       "       242.88037217, 239.16036647, 245.46037612, 244.35037442,\n",
       "       237.57036403, 242.99037233, 229.24035126, 230.68035347,\n",
       "       227.65034883, 214.26032831, 219.8003368 , 211.24032368,\n",
       "       205.72031523, 205.73031524, 212.80032607, 224.35034377,\n",
       "       230.09035257, 234.0903587 , 148.85022808, 148.18022706,\n",
       "       136.00020839, 131.27020115, 143.09021926, 139.16021324,\n",
       "       130.64020018, 128.79019735, 132.0902024 , 127.63019557,\n",
       "       118.80018204, 117.25017966, 113.17017341, 109.54016785,\n",
       "       118.69018187, 121.57018628, 122.12018712, 114.58017557,\n",
       "       119.20018265, 114.06017477, 111.15017032,  98.56015102,\n",
       "       101.38015534, 109.59016793, 106.30016288,  98.70015124,\n",
       "        97.72014974, 103.12015801, 114.72017579, 118.93018224,\n",
       "       127.58019549, 122.58018783, 127.74019574, 124.55019085,\n",
       "       130.66020021, 132.91020366, 134.68020637, 140.95021598,\n",
       "       138.9402129 , 133.45020449, 135.9402083 , 144.98022215,\n",
       "       142.93021901, 134.39020593, 134.04020539, 133.42020444,\n",
       "       127.55019545, 125.23019189, 126.08019319, 121.27018582,\n",
       "       121.86018673, 128.40019675, 111.51017087,  99.16015194,\n",
       "        95.20014588,  98.08015029,  92.04014103,  86.04013184,\n",
       "       116.820179  , 111.56017094, 122.22018728, 123.12018866,\n",
       "       134.50020609, 119.37018291, 114.860176  , 107.30016442,\n",
       "       108.74016662,  99.83015297, 102.3301568 , 109.71016811,\n",
       "       111.13017028, 113.71017424, 103.33015833, 102.38015688,\n",
       "       104.63016032, 107.32016445,  92.37014154,  94.92014545,\n",
       "       102.7201574 , 106.22016276, 104.73016048,  99.73015282,\n",
       "       109.95016848, 101.8701561 , 105.34016141, 106.74016356,\n",
       "       107.73016507,  95.09014571,  86.66013279,  75.35011546,\n",
       "        74.82011465,  80.44012326,  71.96011026,  74.83011466,\n",
       "        68.14010441,  66.94010257,  69.84010702,  81.2501245 ,\n",
       "        80.58012347,  71.77010997,  75.03011497,  72.34011085,\n",
       "        71.12010898,  79.28012148,  80.8601239 ,  83.28012761,\n",
       "        81.9701256 ,  73.97011334,  74.36011394,  74.58011428,\n",
       "        69.14010594,  75.79011613,  78.32012001,  86.87013311,\n",
       "        94.18014431,  94.26014443,  80.36012314,  77.74011912,\n",
       "        70.24010763,  80.67012361,  71.81011003,  70.19010755,\n",
       "        71.02010882,  71.28010922,  79.89012242,  81.66012513,\n",
       "        78.20011983,  81.34012464,  79.620122  ,  89.43013703,\n",
       "        88.58013573,  91.59014034,  91.98014094,  90.56013877,\n",
       "        85.94013169,  85.75013139,  79.05012113,  74.1401136 ,\n",
       "        72.20011063,  74.35011393,  79.87012238,  72.87011166,\n",
       "        70.26010766,  68.25010458,  74.02011342,  76.45011714,\n",
       "        71.41010942,  69.63010669,  71.48010953,  73.15011209,\n",
       "        80.24012295,  80.05012266,  64.2200984 ,  62.56009586,\n",
       "        60.64009292,  57.38008792,  59.11009057,  57.18008762,\n",
       "        53.21008153,  53.91008261,  51.50007891,  47.46007272,\n",
       "        45.4900697 ,  52.70008075,  47.50007278,  46.77007167,\n",
       "        49.70007616,  51.37007871,  50.07007672,  50.16007686,\n",
       "        44.54006825,  44.88006877,  39.63006073,  38.59005913,\n",
       "        41.38006341,  37.850058  ,  45.13006915,  43.89006725,\n",
       "        44.32006791,  42.62006531,  41.10006298,  40.81006253,\n",
       "        48.60007447,  40.91006269,   9.03001384,  10.29001577,\n",
       "         4.25000651,   6.29000964,   1.6300025 ,   0.        ,\n",
       "         1.88000288,   7.81001197,   7.56001158,  12.56001925,\n",
       "        22.96003518,  24.11003694,  25.31003878,  28.17004316,\n",
       "        24.32003727,  22.54003454,  23.14003546,  20.9500321 ,\n",
       "        22.53003452,  23.33003575,  22.50003448,  19.87003045,\n",
       "        20.55003149,  29.19004473,  31.53004831,  34.58005299,\n",
       "        33.52005136,  25.21003863,  25.02003834,  26.42004048,\n",
       "        26.99004136,  25.80003953,  31.24004787,  32.68005008,\n",
       "        27.24004174,  30.52004677,  25.57003918,  28.18004318,\n",
       "        30.85004727,  28.21004323,  29.13004464,  27.97004286,\n",
       "        26.71004093,  31.35004804,  31.43004816,  35.8300549 ,\n",
       "        38.46005893,  38.03005827,  41.11006299,  40.56006215,\n",
       "        44.08006754,  43.98006739,  47.80007324,  48.07007366,\n",
       "        46.45007118,  44.11006759,  47.24007239,  50.46007732,\n",
       "        54.3600833 ,  54.2300831 ,  52.59008058,  58.39008947,\n",
       "        62.83009627,  58.1500891 ,  60.06009203,  64.21009839,\n",
       "        99.86015302,  97.62014958,  97.15014886, 102.71015738,\n",
       "        94.52014483,  89.01013639,  85.24013061,  90.5201387 ,\n",
       "        90.57013878,  88.25013523,  83.53012799,  83.97012867,\n",
       "        83.17012744,  82.21012597,  83.13012738,  81.48012485,\n",
       "        80.63012355,  86.03013182,  84.51012949,  85.6201312 ,\n",
       "        96.34014762,  95.99014709,  95.60014649,  96.06014719,\n",
       "        92.78014217,  90.60013883,  91.99014096, 105.11016106,\n",
       "       108.84016678, 116.02017778, 106.7001635 , 108.90016687,\n",
       "       113.25017353, 110.90016993, 115.37017678, 117.10017943,\n",
       "       113.93017458, 111.77017127, 116.44017842, 118.93018224,\n",
       "       123.03018852, 124.16019025, 125.81019278, 122.57018781,\n",
       "       127.19019489, 125.84019282, 124.94019145, 125.09019168,\n",
       "       131.44020141, 132.58020315, 129.95019912, 128.98019764,\n",
       "       126.79019428, 124.16019025, 123.98018997, 123.88018982,\n",
       "       118.64018179, 120.49018463, 149.65022931, 151.41023201,\n",
       "       154.27023639, 150.33023035, 148.12022696, 144.61022159,\n",
       "       143.87022045, 144.3602212 , 144.46022136, 144.17022091,\n",
       "       146.88022506, 144.90022203, 149.95022977, 149.91022971,\n",
       "       153.58023533, 157.94024201, 156.73024016, 159.41024426,\n",
       "       157.83024184, 160.30024563, 163.78025096, 173.13026529,\n",
       "       173.61026602, 175.81026939, 183.70028148, 183.70028148,\n",
       "       182.48027961, 182.2102792 , 174.69026768, 175.67026918,\n",
       "       176.04026975, 182.14027909, 182.41027951, 184.44028262,\n",
       "       192.92029561, 192.09029434, 195.42029944, 192.73029532,\n",
       "       195.97030029, 199.82030618, 189.56029046, 198.14030361,\n",
       "       196.38030091, 192.62029515, 198.0703035 , 197.11030203,\n",
       "       205.46031483, 203.08031118, 201.62030894, 205.19031441,\n",
       "       209.38032083, 220.43033777, 224.500344  , 219.96033705,\n",
       "       221.71033973, 223.14034192, 227.10034799, 213.61032732,\n",
       "       205.35031466, 202.7003106 , 205.56031498, 209.66032126,\n",
       "       222.8003414 , 236.5703625 , 229.69035195, 233.80035825,\n",
       "       225.40034538, 224.28034366, 221.8203399 , 227.65034883,\n",
       "       223.73034282, 216.30033144, 216.83033225, 212.73032597,\n",
       "       217.28033294, 213.04032644, 205.3803147 , 196.18030061,\n",
       "       194.34029779, 200.99030798, 198.69030445, 205.33031463,\n",
       "       197.84030315, 196.59030124, 201.35030853, 209.08032037,\n",
       "       206.19031595, 206.98031716, 207.47031791, 211.24032368,\n",
       "       210.26032218, 209.76032142, 208.98032022, 218.65033504,\n",
       "       212.750326  , 216.15033121, 222.81034141, 211.40032393,\n",
       "       213.64032736, 216.16033122, 210.76032295, 206.82031691,\n",
       "       210.17032204, 211.92032473, 210.05032186, 208.83031999,\n",
       "       215.05032952, 211.30032378, 217.9103339 , 212.03032489,\n",
       "       216.670332  , 215.88033079, 226.5203471 , 229.45035159,\n",
       "       232.93035692, 238.91036608, 235.25036047, 225.78034596,\n",
       "       232.24035586, 235.09036023, 228.06034946, 223.90034308,\n",
       "       219.74033671, 225.10034492, 223.64034268, 210.62032273,\n",
       "       199.4403056 , 207.82031844, 213.75032753, 212.3603254 ,\n",
       "       222.94034161, 221.96034011, 225.69034583, 226.89034766,\n",
       "       229.91035229, 230.87035376, 231.64035494, 239.86036754,\n",
       "       240.28036818, 247.40037909, 243.80037358, 245.28037584,\n",
       "       246.13037715, 251.0603847 , 248.07038012, 252.58038703,\n",
       "       249.32038203, 245.79037662, 250.0803832 , 243.29037279,\n",
       "       238.24036506, 235.91036149, 231.11035413, 229.38035148,\n",
       "       228.54035019, 237.6803642 , 243.84037364, 236.37036219,\n",
       "       245.31037589, 245.83037669, 244.26037428, 246.01037696,\n",
       "       255.71039183, 261.45040062, 260.37039897, 265.18040634,\n",
       "       264.48040526, 265.92040747, 268.92041207, 269.41041282,\n",
       "       265.05040614, 257.38039438, 255.5603916 , 258.21039566,\n",
       "       263.04040306, 269.75041334, 268.52041145, 281.56043144,\n",
       "       280.76043021, 285.58043759, 278.55042682, 279.46042822,\n",
       "       287.22044011, 294.54045132, 292.87044877, 296.29045401,\n",
       "       301.79046243, 304.27046623, 305.2304677 , 312.11047825,\n",
       "       311.15047678, 301.23046158, 305.87046869, 386.08059159,\n",
       "       370.50056772, 365.81056053, 380.68058332, 381.09058395,\n",
       "       379.20058105, 379.99058226, 371.21056881, 384.37058897,\n",
       "       395.12060544, 384.41058903, 382.84058663, 379.12058093,\n",
       "       397.22060866, 395.12060544, 392.83060193, 398.14061007,\n",
       "       395.11060543, 401.22061479, 413.39063344, 409.28062714,\n",
       "       401.31061493, 407.18062392, 423.28064859, 417.04063903,\n",
       "       394.68060477, 410.84062953, 406.66062313, 402.9206174 ,\n",
       "       395.19060555, 408.07062529, 407.33062415, 416.61063837,\n",
       "       418.8506418 , 420.67064459, 414.11063454, 406.98062362,\n",
       "       404.95062051, 396.67060782, 402.44061666, 408.46062588,\n",
       "       417.83064024, 422.01064665, 438.43067181, 430.34065941,\n",
       "       427.99065581, 430.9206603 , 434.2506654 , 422.99064815,\n",
       "       411.32063027, 410.85062955, 405.26062098, 412.89063267,\n",
       "       392.16060091, 392.82060192, 407.19062394, 404.59061995,\n",
       "       352.47054009, 354.38054302, 343.71052667, 341.26052291,\n",
       "       350.28053673, 352.77054055, 363.0505563 , 376.77057733,\n",
       "       379.33058125, 383.69058793, 386.51059225, 387.29059345,\n",
       "       379.1005809 , 382.94058678, 392.63060163, 384.32058889,\n",
       "       383.00058687, 379.93058217, 375.72057572, 378.87058054,\n",
       "       376.87057748, 389.31059654, 391.01059915, 385.45059063,\n",
       "       378.14057942, 377.92057909, 388.58059542, 388.08059466,\n",
       "       406.15062234, 404.85062035, 404.05061913, 413.6906339 ,\n",
       "       418.56064136, 419.93064346, 415.1906362 , 415.25063629,\n",
       "       417.72064007, 410.58062913, 412.79063252, 405.87062192,\n",
       "       410.00062824, 421.69064616, 424.21065002, 430.65065989,\n",
       "       415.31063638, 415.77063709, 420.59064447, 421.05064518,\n",
       "       451.00069107, 440.41067484, 441.09067588, 445.78068307,\n",
       "       423.79064937, 409.96062818, 407.25062403, 400.88061427,\n",
       "       373.08057167, 386.94059291, 387.88059435, 398.49061061,\n",
       "       399.78061258, 372.36057057, 364.50055852, 376.79057736,\n",
       "       376.80057737, 374.28057351, 385.92059135, 408.83062645,\n",
       "       399.23061174, 386.82059273, 405.18062086, 400.01061294,\n",
       "       420.72064467, 428.86065714, 427.04065435, 439.63067365,\n",
       "       437.85067092, 448.42068712, 438.51067193, 440.37067478,\n",
       "       437.82067087, 446.25068379, 443.02067884, 439.09067282,\n",
       "       432.21066228, 430.19065918, 427.87065563, 429.31065783,\n",
       "       432.40066257, 422.85064793, 423.83064944, 427.95065575,\n",
       "       411.36063033, 415.88063725, 415.88063725, 422.92064804,\n",
       "       436.69066914, 435.71066764, 444.37068091, 447.41068557,\n",
       "       449.04068807, 470.19072047, 472.44072392, 475.50072861,\n",
       "       474.42072695, 479.40073459, 478.93073387, 478.45073313,\n",
       "       483.53074091, 487.56074709, 483.90074148, 493.86075674,\n",
       "       507.03077692, 495.87075982, 503.98077225, 501.6007686 ,\n",
       "       494.92075837, 501.04076774, 501.51076846, 497.36076211,\n",
       "       487.88074758, 488.02074779, 487.56074709, 486.25074508,\n",
       "       493.10075558, 474.78072751, 478.87073377, 484.34074216,\n",
       "       489.25074968, 504.37077285, 502.89077058, 478.67073347,\n",
       "       478.25073282, 471.77072289, 483.5207409 , 483.14074032,\n",
       "       502.79077043, 500.43076681, 494.26075736, 495.91075988,\n",
       "       491.0907525 , 488.25074815, 465.17071278, 465.49071327,\n",
       "       472.18072352, 476.61073031, 474.18072659, 470.23072053,\n",
       "       476.20072968, 484.6307426 , 480.29073595, 485.41074379,\n",
       "       503.92077216, 524.74080406, 524.87080426, 520.02079683,\n",
       "       534.86081957, 524.66080394, 530.41081275, 543.77083322,\n",
       "       541.88083032, 531.44081433])"
      ]
     },
     "execution_count": 208,
     "metadata": {},
     "output_type": "execute_result"
    }
   ],
   "source": [
    "y_test\n"
   ]
  },
  {
   "cell_type": "code",
   "execution_count": 209,
   "id": "ee0f0c18-eb08-42d6-b48b-660533fdaf4c",
   "metadata": {},
   "outputs": [
    {
     "data": {
      "image/png": "[encoded data removed]",
      "text/plain": [
       "<Figure size 1200x600 with 1 Axes>"
      ]
     },
     "metadata": {},
     "output_type": "display_data"
    }
   ],
   "source": [
    "plt.figure(figsize = (12,6))\n",
    "plt.plot(y_test, 'b', label = \"Original Price\")\n",
    "plt.plot(y_pred, 'r', label = \"Predicted Price\")\n",
    "plt.xlabel('Day')\n",
    "plt.ylabel('Price')\n",
    "plt.legend()\n",
    "plt.grid(True)\n",
    "plt.show()"
   ]
  },
  {
   "cell_type": "code",
   "execution_count": 210,
   "id": "8439c45f-15df-40d7-b8e9-598e63321894",
   "metadata": {},
   "outputs": [
    {
     "name": "stdout",
     "output_type": "stream",
     "text": [
      "R2 score: 0.9885833603454407\n"
     ]
    }
   ],
   "source": [
    "from sklearn.metrics import r2_score\n",
    "\n",
    "# Actual values\n",
    "actual = y_test\n",
    "\n",
    "# Predicted values\n",
    "predicted = y_pred\n",
    "\n",
    "# Calculate the R2 score\n",
    "r2 = r2_score(actual, predicted)\n",
    "\n",
    "print(\"R2 score:\", r2)"
   ]
  },
  {
   "cell_type": "code",
   "execution_count": 132,
   "id": "c2315eed-e4bd-49a0-a8dc-a8070396deb8",
   "metadata": {},
   "outputs": [
    {
     "name": "stdout",
     "output_type": "stream",
     "text": [
      "Mean absolute error on test set: 3.85%\n"
     ]
    }
   ],
   "source": [
    "from sklearn.metrics import mean_absolute_error\n",
    "\n",
    "mae = mean_absolute_error(y_test, y_pred)\n",
    "mae_percentage = (mae / np.mean(y_test)) * 100\n",
    "print(\"Mean absolute error on test set: {:.2f}%\".format(mae_percentage))\n",
    "\n",
    "\n",
    "\n"
   ]
  },
  {
   "cell_type": "code",
   "execution_count": 134,
   "id": "7d059489-8869-46a6-80a8-5c30838d47cf",
   "metadata": {},
   "outputs": [
    {
     "name": "stdout",
     "output_type": "stream",
     "text": [
      "Mean squared error on test set:  54.2059768461723\n"
     ]
    }
   ],
   "source": [
    "from sklearn.metrics import mean_squared_error\n",
    "mse = math.sqrt(mean_squared_error(y_test, y_pred))\n",
    "print(\"Mean squared error on test set: \", mse)"
   ]
  },
  {
   "cell_type": "code",
   "execution_count": 155,
   "id": "7d2fd46e-a432-4e1c-8a59-d20539ca385c",
   "metadata": {},
   "outputs": [
    {
     "name": "stdout",
     "output_type": "stream",
     "text": [
      "(950, 1)\n",
      "(2115, 100)\n"
     ]
    }
   ],
   "source": [
    "print(y_pred.shape)\n",
    "print(x_train_flat.shape)"
   ]
  },
  {
   "cell_type": "code",
   "execution_count": null,
   "id": "778ee2d8-cebd-4f4b-8926-4c3bf34fd099",
   "metadata": {},
   "outputs": [],
   "source": []
  }
 ],
 "metadata": {
  "kernelspec": {
   "display_name": "Python 3 (ipykernel)",
   "language": "python",
   "name": "python3"
  },
  "language_info": {
   "codemirror_mode": {
    "name": "ipython",
    "version": 3
   },
   "file_extension": ".py",
   "mimetype": "text/x-python",
   "name": "python",
   "nbconvert_exporter": "python",
   "pygments_lexer": "ipython3",
   "version": "3.10.16"
  }
 },
 "nbformat": 4,
 "nbformat_minor": 5
}
